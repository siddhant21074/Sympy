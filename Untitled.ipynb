{
 "cells": [
  {
   "cell_type": "markdown",
   "id": "80555c9c",
   "metadata": {},
   "source": [
    "# Sympy lesson- 7\n",
    "    "
   ]
  },
  {
   "cell_type": "markdown",
   "id": "016e8491",
   "metadata": {},
   "source": [
    "# Differentiation"
   ]
  },
  {
   "cell_type": "code",
   "execution_count": 2,
   "id": "46a7a250",
   "metadata": {},
   "outputs": [
    {
     "data": {
      "text/latex": [
       "$\\displaystyle x$"
      ],
      "text/plain": [
       "x"
      ]
     },
     "execution_count": 2,
     "metadata": {},
     "output_type": "execute_result"
    }
   ],
   "source": [
    "import sympy as sp\n",
    "\n",
    "x, y = sp.symbols(\"x y\")\n"
   ]
  },
  {
   "cell_type": "code",
   "execution_count": 24,
   "id": "d4085d08",
   "metadata": {},
   "outputs": [
    {
     "data": {
      "text/latex": [
       "$\\displaystyle 2 \\cdot \\left(6 x + 1\\right)$"
      ],
      "text/plain": [
       "2*(6*x + 1)"
      ]
     },
     "execution_count": 24,
     "metadata": {},
     "output_type": "execute_result"
    }
   ],
   "source": [
    "e = (x**2 + 2*x**3)\n",
    "d = sp.diff(e, x, 2)  # Here we differentiated w.r.t \"x\" and for 2 times \n",
    "d"
   ]
  },
  {
   "cell_type": "code",
   "execution_count": 28,
   "id": "302e5e87",
   "metadata": {},
   "outputs": [
    {
     "data": {
      "text/latex": [
       "$\\displaystyle x^{2} \\cdot \\left(2 x + 1\\right)$"
      ],
      "text/plain": [
       "x**2*(2*x + 1)"
      ]
     },
     "execution_count": 28,
     "metadata": {},
     "output_type": "execute_result"
    }
   ],
   "source": [
    "e.rewrite(sp.exp) # Here we re-written this function w.r.t exponentiation  function \n",
    "e.simplify()  # We can rewrite and make it smaller and perform simplify operation to make it smaller"
   ]
  },
  {
   "cell_type": "markdown",
   "id": "f66bf9a8",
   "metadata": {},
   "source": [
    "# Integration"
   ]
  },
  {
   "cell_type": "code",
   "execution_count": 41,
   "id": "e55da7cf",
   "metadata": {},
   "outputs": [
    {
     "data": {
      "text/latex": [
       "$\\displaystyle y \\left(2 x^{3} + x^{2}\\right)$"
      ],
      "text/plain": [
       "y*(2*x**3 + x**2)"
      ]
     },
     "execution_count": 41,
     "metadata": {},
     "output_type": "execute_result"
    }
   ],
   "source": [
    "var1 = sp.integrate(e,y) # Here we are intergrating w.r.t y \n",
    "var1"
   ]
  },
  {
   "cell_type": "code",
   "execution_count": 48,
   "id": "bfb4571d",
   "metadata": {},
   "outputs": [
    {
     "data": {
      "text/latex": [
       "$\\displaystyle 1$"
      ],
      "text/plain": [
       "1"
      ]
     },
     "execution_count": 48,
     "metadata": {},
     "output_type": "execute_result"
    }
   ],
   "source": [
    "u = sp.exp(-x)\n",
    "sp.integrate(u,(x,0,sp.oo))"
   ]
  },
  {
   "cell_type": "code",
   "execution_count": null,
   "id": "a1499f5b",
   "metadata": {},
   "outputs": [],
   "source": []
  }
 ],
 "metadata": {
  "kernelspec": {
   "display_name": "Python 3 (ipykernel)",
   "language": "python",
   "name": "python3"
  },
  "language_info": {
   "codemirror_mode": {
    "name": "ipython",
    "version": 3
   },
   "file_extension": ".py",
   "mimetype": "text/x-python",
   "name": "python",
   "nbconvert_exporter": "python",
   "pygments_lexer": "ipython3",
   "version": "3.11.4"
  }
 },
 "nbformat": 4,
 "nbformat_minor": 5
}
