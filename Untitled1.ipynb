{
 "cells": [
  {
   "cell_type": "code",
   "execution_count": null,
   "id": "3b0b6d2f",
   "metadata": {},
   "outputs": [],
   "source": [
    " \n",
    " "
   ]
  },
  {
   "cell_type": "code",
   "execution_count": 145,
   "id": "e478ca52",
   "metadata": {},
   "outputs": [],
   "source": [
    "wrtx = sp.diff(p,x)\n",
    "wrty = sp.diff(p,y)\n",
    "wrtz = sp.diff(p,z)\n"
   ]
  },
  {
   "cell_type": "code",
   "execution_count": 227,
   "id": "d374d275",
   "metadata": {},
   "outputs": [
    {
     "data": {
      "text/latex": [
       "$\\displaystyle 2 x + 2 y + 2 z$"
      ],
      "text/plain": [
       "2*x + 2*y + 2*z"
      ]
     },
     "execution_count": 227,
     "metadata": {},
     "output_type": "execute_result"
    }
   ],
   "source": [
    "d = sp.Symbol(\"del\")\n",
    "\n",
    "del1 = (wrtx + wrty + wrtz)\n",
    "del1\n"
   ]
  },
  {
   "cell_type": "code",
   "execution_count": 207,
   "id": "0edb84b8",
   "metadata": {},
   "outputs": [
    {
     "data": {
      "text/latex": [
       "$\\displaystyle 2 i + 2 j + 2 k$"
      ],
      "text/plain": [
       "2*i + 2*j + 2*k"
      ]
     },
     "execution_count": 207,
     "metadata": {},
     "output_type": "execute_result"
    }
   ],
   "source": [
    "x1 = wrtx.subs(x,1)\n",
    "y1 = wrty.subs(y,1)\n",
    "z1 = wrtz.subs(z,1)\n",
    "d1 = x1*i + y1*j + z1*k\n",
    "del2 = (f\"{x1*i} + {y1*j} + {z1*k}\")\n",
    "del2\n",
    "d1\n"
   ]
  },
  {
   "cell_type": "code",
   "execution_count": 191,
   "id": "0cb88116",
   "metadata": {},
   "outputs": [
    {
     "data": {
      "text/latex": [
       "$\\displaystyle \\hat{a}$"
      ],
      "text/plain": [
       "ahat"
      ]
     },
     "execution_count": 191,
     "metadata": {},
     "output_type": "execute_result"
    }
   ],
   "source": [
    "ibar = sp.symbols(\"ibar\")\n",
    "jbar = sp.symbols(\"jbar\")\n",
    "kbar = sp.symbols(\"kbar\")\n",
    "ahat = sp.symbols(\"ahat\")\n",
    "ahat"
   ]
  },
  {
   "cell_type": "code",
   "execution_count": 202,
   "id": "d3aca768",
   "metadata": {},
   "outputs": [
    {
     "data": {
      "text/latex": [
       "$\\displaystyle \\frac{\\sqrt{3} \\left(\\bar{i} - \\bar{j} + \\bar{k}\\right)}{3}$"
      ],
      "text/plain": [
       "sqrt(3)*(ibar - jbar + kbar)/3"
      ]
     },
     "execution_count": 202,
     "metadata": {},
     "output_type": "execute_result"
    }
   ],
   "source": [
    "abar = ibar - jbar + kbar\n",
    "\n",
    "ahat = abar / sp.sqrt(1**2 + 1**2 + 1**2)\n",
    "ahat"
   ]
  },
  {
   "cell_type": "code",
   "execution_count": 220,
   "id": "8dccce6d",
   "metadata": {},
   "outputs": [
    {
     "data": {
      "text/latex": [
       "$\\displaystyle \\frac{2 \\sqrt{3} \\left(i + j + k\\right) \\left(\\bar{i} - \\bar{j} + \\bar{k}\\right)}{3}$"
      ],
      "text/plain": [
       "2*sqrt(3)*(i + j + k)*(ibar - jbar + kbar)/3"
      ]
     },
     "execution_count": 220,
     "metadata": {},
     "output_type": "execute_result"
    }
   ],
   "source": [
    "dd = d1 * ahat\n",
    "sp.expand(dd)\n",
    "sp.simplify(dd)"
   ]
  },
  {
   "cell_type": "code",
   "execution_count": 228,
   "id": "a29aa747",
   "metadata": {},
   "outputs": [
    {
     "name": "stdout",
     "output_type": "stream",
     "text": [
      "Enter the Equation : \n",
      "x**2\n",
      "2*x\n",
      "0\n",
      "0\n"
     ]
    }
   ],
   "source": []
  },
  {
   "cell_type": "code",
   "execution_count": 12,
   "id": "44fd7eab",
   "metadata": {},
   "outputs": [
    {
     "data": {
      "text/latex": [
       "$\\displaystyle - 6 x z^{2} + 4 y^{2}$"
      ],
      "text/plain": [
       "-6*x*z**2 + 4*y**2"
      ]
     },
     "execution_count": 12,
     "metadata": {},
     "output_type": "execute_result"
    }
   ],
   "source": [
    "import sympy as sp\n",
    "x,y,z = sp.symbols(\"x, y, z\")\n",
    "\n",
    "equation = 4*y**2*z-2*x*(z**3)\n",
    "a = sp.diff(equation, x)\n",
    "b = sp.diff(equation, y)\n",
    "c = sp.diff(equation, z)\n",
    "c\n",
    "\n"
   ]
  }
 ],
 "metadata": {
  "kernelspec": {
   "display_name": "Python 3 (ipykernel)",
   "language": "python",
   "name": "python3"
  },
  "language_info": {
   "codemirror_mode": {
    "name": "ipython",
    "version": 3
   },
   "file_extension": ".py",
   "mimetype": "text/x-python",
   "name": "python",
   "nbconvert_exporter": "python",
   "pygments_lexer": "ipython3",
   "version": "3.11.4"
  }
 },
 "nbformat": 4,
 "nbformat_minor": 5
}
