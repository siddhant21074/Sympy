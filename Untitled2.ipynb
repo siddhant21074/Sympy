{
 "cells": [
  {
   "cell_type": "code",
   "execution_count": 58,
   "id": "4dcbc5bd",
   "metadata": {},
   "outputs": [
    {
     "name": "stdout",
     "output_type": "stream",
     "text": [
      "Enter the equation: x**2+y**2+z**2\n",
      "Enter the points:\n",
      "Point 1: 1\n",
      "Point 2: 1\n",
      "Point 3: 1\n",
      "Enter the vectors field:\n",
      "i = 1\n",
      "j = -1\n",
      "k = 1\n"
     ]
    }
   ],
   "source": [
    "import sympy as sp\n",
    "\n",
    "x, y, z = sp.symbols(\"x y z\")\n",
    "a,phi = sp.symbols(\"abar,phi\")\n",
    "\n",
    "i, j, k = sp.symbols(\"i, j, k\")\n",
    "a, del1 = sp.symbols(\"ahat , del\")\n",
    "\n",
    "eq = input(\"Enter the equation: \")\n",
    "print(\"Enter the points:\")\n",
    "pt1 = int(input(\"Point 1: \"))\n",
    "pt2 = int(input(\"Point 2: \"))\n",
    "pt3 = int(input(\"Point 3: \"))\n",
    "\n",
    "print(\"Enter the vectors field:\")\n",
    "vec1 = int(input(\"i = \"))\n",
    "vec2 = int(input(\"j = \"))\n",
    "vec3 = int(input(\"k = \"))\n",
    "\n",
    "x1 = sp.diff(eq, x)\n",
    "y1 = sp.diff(eq, y)\n",
    "z1 = sp.diff(eq, z)\n",
    "\n",
    "\n",
    "eqn1 = x1.subs(x, pt1)\n",
    "eqn2 = y1.subs(y, pt2)\n",
    "eqn3 = z1.subs(z, pt3)\n",
    "\n",
    "final_eqn = eqn1 * i + eqn2 * j + eqn3 * k\n",
    "\n",
    "f1 = final_eqn. subs(i, vec1)\n",
    "f2 = final_eqn.subs(j, vec2)\n",
    "f3 = final_eqn.subs(z, vec3)\n",
    "\n",
    "a_bar = vec1 * i + vec2 * j + vec3 * k\n",
    "\n",
    "a_hat = a_bar / sp.sqrt((vec1 ** 2 + vec2 ** 2 + vec3 ** 2))\n",
    "\n",
    "dir_der = final_eqn * a_hat\n",
    "\n",
    "\n"
   ]
  },
  {
   "cell_type": "code",
   "execution_count": 59,
   "id": "27a9ca3d",
   "metadata": {},
   "outputs": [
    {
     "data": {
      "text/latex": [
       "$\\displaystyle del \\phi = 2 x + 2 y + 2 z$"
      ],
      "text/plain": [
       "Eq(del*phi, 2*x + 2*y + 2*z)"
      ]
     },
     "execution_count": 59,
     "metadata": {},
     "output_type": "execute_result"
    }
   ],
   "source": [
    "# differentiation\n",
    "\n",
    "var = sp.Eq(del1*phi, x1+y1+z1)\n",
    "var"
   ]
  },
  {
   "cell_type": "code",
   "execution_count": 87,
   "id": "e2d9507f",
   "metadata": {},
   "outputs": [
    {
     "data": {
      "text/latex": [
       "$\\displaystyle 2 i + 2 j + 2 k$"
      ],
      "text/plain": [
       "2*i + 2*j + 2*k"
      ]
     },
     "execution_count": 87,
     "metadata": {},
     "output_type": "execute_result"
    }
   ],
   "source": [
    "f1 = eqn1*vec1 + eqn2*vec2 + eqn3*vec3\n",
    "final_eqn\n"
   ]
  },
  {
   "cell_type": "code",
   "execution_count": 61,
   "id": "9b896275",
   "metadata": {},
   "outputs": [
    {
     "data": {
      "text/latex": [
       "$\\displaystyle \\hat{a} = i - j + k$"
      ],
      "text/plain": [
       "Eq(ahat, i - j + k)"
      ]
     },
     "execution_count": 61,
     "metadata": {},
     "output_type": "execute_result"
    }
   ],
   "source": [
    "a = sp.Eq(a, a_bar)\n",
    "a"
   ]
  },
  {
   "cell_type": "code",
   "execution_count": 73,
   "id": "d744addc",
   "metadata": {},
   "outputs": [
    {
     "data": {
      "text/latex": [
       "$\\displaystyle \\frac{\\sqrt{3} \\left(i - j + k\\right)}{3}$"
      ],
      "text/plain": [
       "sqrt(3)*(i - j + k)/3"
      ]
     },
     "execution_count": 73,
     "metadata": {},
     "output_type": "execute_result"
    }
   ],
   "source": [
    "a1 = sp.Eq(a,a_hat)\n",
    "\n",
    "a_hat"
   ]
  },
  {
   "cell_type": "code",
   "execution_count": 92,
   "id": "aec83b1c",
   "metadata": {},
   "outputs": [
    {
     "data": {
      "text/latex": [
       "$\\displaystyle \\frac{2 \\sqrt{3} \\left(i - j + k\\right)}{3}$"
      ],
      "text/plain": [
       "2*sqrt(3)*(i - j + k)/3"
      ]
     },
     "execution_count": 92,
     "metadata": {},
     "output_type": "execute_result"
    }
   ],
   "source": [
    "dir_der = f1 * a_hat\n",
    "dir_der.subs(i,vec1)\n",
    "dir_der.subs(j,vec2)\n",
    "dir_der.subs(k,vec3)\n",
    "\n",
    "sp.simplify(dir_der)"
   ]
  }
 ],
 "metadata": {
  "kernelspec": {
   "display_name": "Python 3 (ipykernel)",
   "language": "python",
   "name": "python3"
  },
  "language_info": {
   "codemirror_mode": {
    "name": "ipython",
    "version": 3
   },
   "file_extension": ".py",
   "mimetype": "text/x-python",
   "name": "python",
   "nbconvert_exporter": "python",
   "pygments_lexer": "ipython3",
   "version": "3.11.4"
  }
 },
 "nbformat": 4,
 "nbformat_minor": 5
}
