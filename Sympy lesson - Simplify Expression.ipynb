{
 "cells": [
  {
   "cell_type": "markdown",
   "id": "34053303",
   "metadata": {},
   "source": [
    "# Expressions"
   ]
  },
  {
   "cell_type": "markdown",
   "id": "7bd54706",
   "metadata": {},
   "source": [
    "# Expand and Factor method"
   ]
  },
  {
   "cell_type": "code",
   "execution_count": 7,
   "id": "b9ca1ee0",
   "metadata": {},
   "outputs": [],
   "source": [
    "import sympy  as sp\n",
    "\n",
    "x = sp.Symbol('x')\n",
    "y = sp.Symbol('y')"
   ]
  },
  {
   "cell_type": "code",
   "execution_count": 27,
   "id": "bc067d97",
   "metadata": {},
   "outputs": [
    {
     "data": {
      "text/latex": [
       "$\\displaystyle x^{2} + 5 x + 6$"
      ],
      "text/plain": [
       "x**2 + 5*x + 6"
      ]
     },
     "execution_count": 27,
     "metadata": {},
     "output_type": "execute_result"
    }
   ],
   "source": [
    "p = x**2 + 5*x + 6\n",
    "p"
   ]
  },
  {
   "cell_type": "code",
   "execution_count": 32,
   "id": "dca74ea3",
   "metadata": {},
   "outputs": [
    {
     "data": {
      "text/latex": [
       "$\\displaystyle \\left(x + 2\\right) \\left(x + 3\\right)$"
      ],
      "text/plain": [
       "(x + 2)*(x + 3)"
      ]
     },
     "execution_count": 32,
     "metadata": {},
     "output_type": "execute_result"
    }
   ],
   "source": [
    "p1 = sp.factor(p)  # Here we factorized the term \n",
    "p1"
   ]
  },
  {
   "cell_type": "code",
   "execution_count": 31,
   "id": "918643e0",
   "metadata": {},
   "outputs": [
    {
     "data": {
      "text/latex": [
       "$\\displaystyle x^{2} + 5 x + 6$"
      ],
      "text/plain": [
       "x**2 + 5*x + 6"
      ]
     },
     "execution_count": 31,
     "metadata": {},
     "output_type": "execute_result"
    }
   ],
   "source": [
    "p2 = sp.expand(p1) # Here we expanded the term\n",
    "p2"
   ]
  },
  {
   "cell_type": "code",
   "execution_count": 43,
   "id": "557df6f9",
   "metadata": {},
   "outputs": [
    {
     "data": {
      "text/latex": [
       "$\\displaystyle \\sin^{2}{\\left(y \\right)} + \\sin{\\left(y^{2} \\right)} + \\cos{\\left(x \\right)}$"
      ],
      "text/plain": [
       "sin(y)**2 + sin(y**2) + cos(x)"
      ]
     },
     "execution_count": 43,
     "metadata": {},
     "output_type": "execute_result"
    }
   ],
   "source": [
    "# Trignometry term\n",
    "\n",
    "v = sp.cos(x) + sp.sin(y)**2 + sp.sin(y**2)\n",
    "v1 = sp.expand(v)\n",
    "v1\n"
   ]
  },
  {
   "cell_type": "markdown",
   "id": "74c944ac",
   "metadata": {},
   "source": [
    "# Avoiding certain simplifications\n"
   ]
  },
  {
   "cell_type": "code",
   "execution_count": 49,
   "id": "917b1d73",
   "metadata": {},
   "outputs": [
    {
     "data": {
      "text/latex": [
       "$\\displaystyle e^{x + y} + \\sin^{2}{\\left(y \\right)} - \\cos^{2}{\\left(x \\right)} + \\cos{\\left(x \\right)}$"
      ],
      "text/plain": [
       "exp(x + y) + sin(y)**2 - cos(x)**2 + cos(x)"
      ]
     },
     "execution_count": 49,
     "metadata": {},
     "output_type": "execute_result"
    }
   ],
   "source": [
    "term = sp.exp(x + y) + (sp.cos(x) + sp.sin(y)**2) - sp.cos(x) **2\n",
    "term\n",
    "var = term.expand(power_exp = False)\n",
    "term"
   ]
  },
  {
   "cell_type": "markdown",
   "id": "fb72a83f",
   "metadata": {},
   "source": [
    "# cancel and apart"
   ]
  },
  {
   "cell_type": "code",
   "execution_count": 59,
   "id": "9ec46716",
   "metadata": {},
   "outputs": [
    {
     "data": {
      "text/latex": [
       "$\\displaystyle \\frac{x^{3} + 10 x^{2} + 31 x + 30}{x^{2} + 12 x + 35}$"
      ],
      "text/plain": [
       "(x**3 + 10*x**2 + 31*x + 30)/(x**2 + 12*x + 35)"
      ]
     },
     "execution_count": 59,
     "metadata": {},
     "output_type": "execute_result"
    }
   ],
   "source": [
    "var1 = x**3 + 10*x**2 + 31 * x + 30\n",
    "var2 = x**2 + 12*x + 35\n",
    "f = var1 / var2\n",
    "f"
   ]
  },
  {
   "cell_type": "code",
   "execution_count": 62,
   "id": "4fac230b",
   "metadata": {},
   "outputs": [
    {
     "data": {
      "text/latex": [
       "$\\displaystyle \\frac{x^{2} + 5 x + 6}{x + 7}$"
      ],
      "text/plain": [
       "(x**2 + 5*x + 6)/(x + 7)"
      ]
     },
     "execution_count": 62,
     "metadata": {},
     "output_type": "execute_result"
    }
   ],
   "source": [
    "f.cancel() # This method cancels the commom term in the given equations"
   ]
  },
  {
   "cell_type": "code",
   "execution_count": 63,
   "id": "59ce8406",
   "metadata": {},
   "outputs": [
    {
     "data": {
      "text/latex": [
       "$\\displaystyle x - 2 + \\frac{20}{x + 7}$"
      ],
      "text/plain": [
       "x - 2 + 20/(x + 7)"
      ]
     },
     "execution_count": 63,
     "metadata": {},
     "output_type": "execute_result"
    }
   ],
   "source": [
    "f.apart()"
   ]
  },
  {
   "cell_type": "markdown",
   "id": "2c2ef151",
   "metadata": {},
   "source": [
    "# simplify method"
   ]
  },
  {
   "cell_type": "code",
   "execution_count": 64,
   "id": "8317a2bf",
   "metadata": {},
   "outputs": [
    {
     "data": {
      "text/latex": [
       "$\\displaystyle e^{x + y} + \\sin^{2}{\\left(y \\right)} - \\cos^{2}{\\left(x \\right)} + \\cos{\\left(x \\right)}$"
      ],
      "text/plain": [
       "exp(x + y) + sin(y)**2 - cos(x)**2 + cos(x)"
      ]
     },
     "execution_count": 64,
     "metadata": {},
     "output_type": "execute_result"
    }
   ],
   "source": [
    "term1 = sp.exp(x + y) + (sp.cos(x) + sp.sin(y)**2) - sp.cos(x) **2\n",
    "term1.simplify()"
   ]
  }
 ],
 "metadata": {
  "kernelspec": {
   "display_name": "Python 3 (ipykernel)",
   "language": "python",
   "name": "python3"
  },
  "language_info": {
   "codemirror_mode": {
    "name": "ipython",
    "version": 3
   },
   "file_extension": ".py",
   "mimetype": "text/x-python",
   "name": "python",
   "nbconvert_exporter": "python",
   "pygments_lexer": "ipython3",
   "version": "3.11.4"
  }
 },
 "nbformat": 4,
 "nbformat_minor": 5
}
