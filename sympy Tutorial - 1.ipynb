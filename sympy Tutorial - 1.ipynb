{
 "cells": [
  {
   "cell_type": "code",
   "execution_count": 9,
   "id": "80a78261",
   "metadata": {},
   "outputs": [
    {
     "data": {
      "text/latex": [
       "$\\displaystyle x^{0.333333333333333}$"
      ],
      "text/plain": [
       "x**0.333333333333333"
      ]
     },
     "execution_count": 9,
     "metadata": {},
     "output_type": "execute_result"
    }
   ],
   "source": [
    "import sympy as sp\n",
    "x = sp.Symbol(\"x\")\n",
    "expr = x**(1/3)\n",
    "expr\n",
    "\n"
   ]
  },
  {
   "cell_type": "code",
   "execution_count": 12,
   "id": "040381d3",
   "metadata": {},
   "outputs": [
    {
     "data": {
      "text/latex": [
       "$\\displaystyle x^{0.0666666666666667}$"
      ],
      "text/plain": [
       "x**0.0666666666666667"
      ]
     },
     "execution_count": 12,
     "metadata": {},
     "output_type": "execute_result"
    }
   ],
   "source": [
    "expr**(1/5)"
   ]
  },
  {
   "cell_type": "markdown",
   "id": "2c5da1e8",
   "metadata": {},
   "source": [
    "# Sumpy integer datatype"
   ]
  },
  {
   "cell_type": "code",
   "execution_count": 18,
   "id": "df9f16f7",
   "metadata": {},
   "outputs": [
    {
     "data": {
      "text/latex": [
       "$\\displaystyle \\sqrt[3]{x}$"
      ],
      "text/plain": [
       "x**(1/3)"
      ]
     },
     "execution_count": 18,
     "metadata": {},
     "output_type": "execute_result"
    }
   ],
   "source": [
    "#integer datatype\n",
    "\n",
    "# Two methods for doing this \n",
    "var = x**(sp.Integer(1) / sp.Integer(3))\n",
    "var\n",
    "\n",
    "var1 = x**(sp.Integer(1) / 3)\n",
    "var1"
   ]
  },
  {
   "cell_type": "code",
   "execution_count": 21,
   "id": "921fe67e",
   "metadata": {},
   "outputs": [
    {
     "data": {
      "text/latex": [
       "$\\displaystyle \\frac{1}{3}$"
      ],
      "text/plain": [
       "1/3"
      ]
     },
     "execution_count": 21,
     "metadata": {},
     "output_type": "execute_result"
    }
   ],
   "source": [
    "# rational number\n",
    "\n",
    "n = sp.Rational(1) / (3)\n",
    "n"
   ]
  },
  {
   "cell_type": "markdown",
   "id": "fb9bff2a",
   "metadata": {},
   "source": [
    "# Sympy constants "
   ]
  },
  {
   "cell_type": "code",
   "execution_count": 23,
   "id": "8f3e070a",
   "metadata": {},
   "outputs": [
    {
     "data": {
      "text/latex": [
       "$\\displaystyle 3 \\pi$"
      ],
      "text/plain": [
       "3*pi"
      ]
     },
     "execution_count": 23,
     "metadata": {},
     "output_type": "execute_result"
    }
   ],
   "source": [
    "# The pi constant\n",
    "\n",
    "sp.pi\n",
    "3* sp.pi"
   ]
  },
  {
   "cell_type": "code",
   "execution_count": 24,
   "id": "b86dcee9",
   "metadata": {},
   "outputs": [
    {
     "data": {
      "text/latex": [
       "$\\displaystyle e$"
      ],
      "text/plain": [
       "E"
      ]
     },
     "execution_count": 24,
     "metadata": {},
     "output_type": "execute_result"
    }
   ],
   "source": [
    "# Constant e\n",
    "sp.E"
   ]
  },
  {
   "cell_type": "code",
   "execution_count": 26,
   "id": "5aeb0c53",
   "metadata": {},
   "outputs": [
    {
     "data": {
      "text/latex": [
       "$\\displaystyle \\text{NaN}$"
      ],
      "text/plain": [
       "nan"
      ]
     },
     "execution_count": 26,
     "metadata": {},
     "output_type": "execute_result"
    }
   ],
   "source": [
    "# infinity\n",
    "\n",
    "sp.oo\n",
    "sp.oo- sp.oo"
   ]
  },
  {
   "cell_type": "code",
   "execution_count": 33,
   "id": "f300cfb4",
   "metadata": {},
   "outputs": [
    {
     "data": {
      "text/latex": [
       "$\\displaystyle -1$"
      ],
      "text/plain": [
       "-1"
      ]
     },
     "execution_count": 33,
     "metadata": {},
     "output_type": "execute_result"
    }
   ],
   "source": [
    "# imaginary units\n",
    "\n",
    "sp.I\n",
    "sp.I **2"
   ]
  },
  {
   "cell_type": "markdown",
   "id": "1d5c69ee",
   "metadata": {},
   "source": [
    "# Common Funtions"
   ]
  },
  {
   "cell_type": "code",
   "execution_count": 34,
   "id": "50848468",
   "metadata": {},
   "outputs": [
    {
     "data": {
      "text/latex": [
       "$\\displaystyle e^{x}$"
      ],
      "text/plain": [
       "exp(x)"
      ]
     },
     "execution_count": 34,
     "metadata": {},
     "output_type": "execute_result"
    }
   ],
   "source": [
    "# Exponential funtion\n",
    "\n",
    "sp.exp(x)"
   ]
  },
  {
   "cell_type": "code",
   "execution_count": 35,
   "id": "a12a1745",
   "metadata": {},
   "outputs": [
    {
     "data": {
      "text/latex": [
       "$\\displaystyle -1$"
      ],
      "text/plain": [
       "-1"
      ]
     },
     "execution_count": 35,
     "metadata": {},
     "output_type": "execute_result"
    }
   ],
   "source": [
    "# Eulers identity\n",
    "\n",
    "sp.exp(sp.pi * sp.I)"
   ]
  },
  {
   "cell_type": "code",
   "execution_count": 40,
   "id": "26549937",
   "metadata": {},
   "outputs": [
    {
     "data": {
      "text/latex": [
       "$\\displaystyle x$"
      ],
      "text/plain": [
       "x"
      ]
     },
     "execution_count": 40,
     "metadata": {},
     "output_type": "execute_result"
    }
   ],
   "source": [
    "# Logorithmic Funtion\n",
    "\n",
    "sp.log(x)\n",
    "sp.exp(sp.log(x))"
   ]
  },
  {
   "cell_type": "code",
   "execution_count": 44,
   "id": "301e88f7",
   "metadata": {},
   "outputs": [
    {
     "data": {
      "text/latex": [
       "$\\displaystyle \\sin{\\left(x \\right)}$"
      ],
      "text/plain": [
       "sin(x)"
      ]
     },
     "execution_count": 44,
     "metadata": {},
     "output_type": "execute_result"
    }
   ],
   "source": [
    "# Trignometry Function\n",
    "\n",
    "sp.sin(x)\n"
   ]
  }
 ],
 "metadata": {
  "kernelspec": {
   "display_name": "Python 3 (ipykernel)",
   "language": "python",
   "name": "python3"
  },
  "language_info": {
   "codemirror_mode": {
    "name": "ipython",
    "version": 3
   },
   "file_extension": ".py",
   "mimetype": "text/x-python",
   "name": "python",
   "nbconvert_exporter": "python",
   "pygments_lexer": "ipython3",
   "version": "3.11.4"
  }
 },
 "nbformat": 4,
 "nbformat_minor": 5
}
