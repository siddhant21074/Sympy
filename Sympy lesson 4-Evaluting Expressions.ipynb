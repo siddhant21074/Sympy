{
 "cells": [
  {
   "cell_type": "code",
   "execution_count": 4,
   "id": "a21ec80b",
   "metadata": {},
   "outputs": [
    {
     "data": {
      "text/latex": [
       "$\\displaystyle \\log{\\left(e^{z} \\right)}$"
      ],
      "text/plain": [
       "log(exp(z))"
      ]
     },
     "execution_count": 4,
     "metadata": {},
     "output_type": "execute_result"
    }
   ],
   "source": [
    "import sympy as sp\n",
    "\n",
    "z = sp.Symbol(\"z\")\n",
    "\n",
    "sp.log(sp.exp(z))"
   ]
  },
  {
   "cell_type": "code",
   "execution_count": 17,
   "id": "f47169a7",
   "metadata": {},
   "outputs": [
    {
     "data": {
      "text/latex": [
       "$\\displaystyle x_{0}$"
      ],
      "text/plain": [
       "x0"
      ]
     },
     "execution_count": 17,
     "metadata": {},
     "output_type": "execute_result"
    }
   ],
   "source": [
    "x0, x1, x2 = sp.symbols(\"x0:3\",real = True)  #Here we made 3 real symbols\n",
    "sp.log(sp.exp(x0)) # Here it only works only with the real number\n"
   ]
  },
  {
   "cell_type": "code",
   "execution_count": 14,
   "id": "af4a234e",
   "metadata": {},
   "outputs": [
    {
     "data": {
      "text/latex": [
       "$\\displaystyle \\left|{x_{0}}\\right|$"
      ],
      "text/plain": [
       "Abs(x0)"
      ]
     },
     "execution_count": 14,
     "metadata": {},
     "output_type": "execute_result"
    }
   ],
   "source": [
    "sp.sqrt(x0**2)"
   ]
  },
  {
   "cell_type": "code",
   "execution_count": 18,
   "id": "5686753b",
   "metadata": {},
   "outputs": [
    {
     "data": {
      "text/latex": [
       "$\\displaystyle x$"
      ],
      "text/plain": [
       "x"
      ]
     },
     "execution_count": 18,
     "metadata": {},
     "output_type": "execute_result"
    }
   ],
   "source": [
    "x = sp.Symbol(\"x\",positive = True)\n",
    "x"
   ]
  },
  {
   "cell_type": "code",
   "execution_count": 19,
   "id": "3ad44e22",
   "metadata": {},
   "outputs": [
    {
     "data": {
      "text/latex": [
       "$\\displaystyle n$"
      ],
      "text/plain": [
       "n"
      ]
     },
     "execution_count": 19,
     "metadata": {},
     "output_type": "execute_result"
    }
   ],
   "source": [
    "n = sp.Symbol(\"n\", integer = True) # Here we make an variable as an integer\n",
    "n"
   ]
  },
  {
   "cell_type": "markdown",
   "id": "645fab91",
   "metadata": {},
   "source": [
    "# Point Evaluation of Expression "
   ]
  },
  {
   "cell_type": "code",
   "execution_count": 21,
   "id": "4b5895ad",
   "metadata": {},
   "outputs": [
    {
     "data": {
      "text/latex": [
       "$\\displaystyle x^{2} + 5$"
      ],
      "text/plain": [
       "x**2 + 5"
      ]
     },
     "execution_count": 21,
     "metadata": {},
     "output_type": "execute_result"
    }
   ],
   "source": [
    "exp = x**2 + 5\n",
    "exp\n",
    "    "
   ]
  },
  {
   "cell_type": "code",
   "execution_count": 23,
   "id": "16029b1f",
   "metadata": {},
   "outputs": [
    {
     "data": {
      "text/latex": [
       "$\\displaystyle 21$"
      ],
      "text/plain": [
       "21"
      ]
     },
     "execution_count": 23,
     "metadata": {},
     "output_type": "execute_result"
    }
   ],
   "source": [
    "# Here we replace or substitute the value of x with an another value using subs parameter\n",
    "exp.subs(x,4)  # Here we substitued \"x\" with 4"
   ]
  },
  {
   "cell_type": "code",
   "execution_count": 27,
   "id": "ca87bba9",
   "metadata": {},
   "outputs": [
    {
     "data": {
      "text/latex": [
       "$\\displaystyle 3.142$"
      ],
      "text/plain": [
       "3.142"
      ]
     },
     "execution_count": 27,
     "metadata": {},
     "output_type": "execute_result"
    }
   ],
   "source": [
    "n = sp.N(sp.pi,4)  # Here in the N function  we get the numeric value of pi\n",
    "                    # Here the second parameter we pass the number of element that we want of the pi\n",
    "n   "
   ]
  },
  {
   "cell_type": "code",
   "execution_count": 37,
   "id": "ef62bf7e",
   "metadata": {},
   "outputs": [
    {
     "data": {
      "text/latex": [
       "$\\displaystyle x^{2} + 3.14159265358979$"
      ],
      "text/plain": [
       "x**2 + 3.14159265358979"
      ]
     },
     "execution_count": 37,
     "metadata": {},
     "output_type": "execute_result"
    }
   ],
   "source": [
    "var1 = sp.N( x**2 + sp.pi)\n",
    "var1"
   ]
  }
 ],
 "metadata": {
  "kernelspec": {
   "display_name": "Python 3 (ipykernel)",
   "language": "python",
   "name": "python3"
  },
  "language_info": {
   "codemirror_mode": {
    "name": "ipython",
    "version": 3
   },
   "file_extension": ".py",
   "mimetype": "text/x-python",
   "name": "python",
   "nbconvert_exporter": "python",
   "pygments_lexer": "ipython3",
   "version": "3.11.4"
  }
 },
 "nbformat": 4,
 "nbformat_minor": 5
}
