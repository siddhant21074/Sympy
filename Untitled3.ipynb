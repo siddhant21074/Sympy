{
 "cells": [
  {
   "cell_type": "code",
   "execution_count": 16,
   "id": "bb331d1e",
   "metadata": {},
   "outputs": [
    {
     "name": "stdout",
     "output_type": "stream",
     "text": [
      "Enter the equation: x**2+y+z\n",
      "Enter the points:\n",
      "Pt1: 1\n",
      "Pt2: -1\n",
      "Pt3: 1\n",
      "Points toward:\n",
      "t1 = 2\n",
      "t2 = 1\n",
      "t3 = -1\n"
     ]
    }
   ],
   "source": [
    "import sympy as sp\n",
    "\n",
    "x, y, z = sp.symbols(\"x y z\")\n",
    "a,phi = sp.symbols(\"abar,phi\")\n",
    "\n",
    "i, j, k = sp.symbols(\"i, j, k\")\n",
    "a, del1 = sp.symbols(\"ahat , del\")\n",
    "\n",
    "eq = input(\"Enter the equation: \")\n",
    "print(\"Enter the points:\")\n",
    "pt1 = int(input(\"Pt1: \"))\n",
    "pt2 = int(input(\"Pt2: \"))\n",
    "pt3 = int(input(\"Pt3: \"))\n",
    "\n",
    "print(\"Points toward:\")\n",
    "t1 = int(input(\"t1 = \"))\n",
    "t2 = int(input(\"t2 = \"))\n",
    "t3 = int(input(\"t3 = \"))"
   ]
  },
  {
   "cell_type": "code",
   "execution_count": 17,
   "id": "581feafb",
   "metadata": {},
   "outputs": [
    {
     "data": {
      "text/latex": [
       "$\\displaystyle 2 x + 2$"
      ],
      "text/plain": [
       "2*x + 2"
      ]
     },
     "execution_count": 17,
     "metadata": {},
     "output_type": "execute_result"
    }
   ],
   "source": [
    "\n",
    "x1 = sp.diff(eq, x)\n",
    "y1 = sp.diff(eq, y)\n",
    "z1 = sp.diff(eq, z)\n",
    "\n",
    "x1+y1+z1"
   ]
  },
  {
   "cell_type": "code",
   "execution_count": 18,
   "id": "f73817fb",
   "metadata": {},
   "outputs": [
    {
     "data": {
      "text/latex": [
       "$\\displaystyle i + 2 j - 2 k$"
      ],
      "text/plain": [
       "i + 2*j - 2*k"
      ]
     },
     "execution_count": 18,
     "metadata": {},
     "output_type": "execute_result"
    }
   ],
   "source": [
    "sub1 = t1-pt1 \n",
    "sub2 = t2-pt2\n",
    "sub3 = t3-pt3\n",
    "\n",
    "a_bar = (sub1*i ) + (sub2*j) + (sub3*k)\n",
    "a_bar"
   ]
  },
  {
   "cell_type": "code",
   "execution_count": null,
   "id": "339fab1b",
   "metadata": {},
   "outputs": [],
   "source": [
    "a_bar = "
   ]
  }
 ],
 "metadata": {
  "kernelspec": {
   "display_name": "Python 3 (ipykernel)",
   "language": "python",
   "name": "python3"
  },
  "language_info": {
   "codemirror_mode": {
    "name": "ipython",
    "version": 3
   },
   "file_extension": ".py",
   "mimetype": "text/x-python",
   "name": "python",
   "nbconvert_exporter": "python",
   "pygments_lexer": "ipython3",
   "version": "3.11.4"
  }
 },
 "nbformat": 4,
 "nbformat_minor": 5
}
