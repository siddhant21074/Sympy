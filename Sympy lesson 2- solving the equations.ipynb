{
 "cells": [
  {
   "cell_type": "markdown",
   "id": "21a54154",
   "metadata": {},
   "source": [
    "# Creating the Equations"
   ]
  },
  {
   "cell_type": "markdown",
   "id": "d3b549e0",
   "metadata": {},
   "source": [
    "# example 1"
   ]
  },
  {
   "cell_type": "code",
   "execution_count": 6,
   "id": "c8edbdb1",
   "metadata": {},
   "outputs": [
    {
     "data": {
      "text/plain": [
       "sympy.core.relational.Equality"
      ]
     },
     "execution_count": 6,
     "metadata": {},
     "output_type": "execute_result"
    }
   ],
   "source": [
    "import sympy as sp\n",
    "\n",
    "x = sp.Symbol(\"x\")\n",
    "eq = sp.Eq(x**2,5)  # Here there are two parameters in this equations first is the LHS and another is the RHS \n",
    "eq\n",
    "\n",
    "type(eq)"
   ]
  },
  {
   "cell_type": "code",
   "execution_count": 10,
   "id": "216d3ab1",
   "metadata": {},
   "outputs": [
    {
     "data": {
      "text/latex": [
       "$\\displaystyle \\left\\{- \\sqrt{5}, \\sqrt{5}\\right\\}$"
      ],
      "text/plain": [
       "{-sqrt(5), sqrt(5)}"
      ]
     },
     "execution_count": 10,
     "metadata": {},
     "output_type": "execute_result"
    }
   ],
   "source": [
    "# To solve the above equation we use the solveset funtion\n",
    "\n",
    "a = sp.solveset(eq)\n",
    "type(a)\n",
    "a \n"
   ]
  },
  {
   "cell_type": "code",
   "execution_count": 12,
   "id": "3062eb69",
   "metadata": {},
   "outputs": [
    {
     "data": {
      "text/latex": [
       "$\\displaystyle \\sqrt{5}$"
      ],
      "text/plain": [
       "sqrt(5)"
      ]
     },
     "execution_count": 12,
     "metadata": {},
     "output_type": "execute_result"
    }
   ],
   "source": [
    "# listing out the 0th element in the set using list\n",
    "\n",
    "list(a)[0]\n"
   ]
  },
  {
   "cell_type": "markdown",
   "id": "484242b9",
   "metadata": {},
   "source": [
    "# example 2"
   ]
  },
  {
   "cell_type": "code",
   "execution_count": 19,
   "id": "de545c25",
   "metadata": {},
   "outputs": [
    {
     "data": {
      "text/latex": [
       "$\\displaystyle \\left\\{2 n \\pi + \\frac{5 \\pi}{4}\\; \\middle|\\; n \\in \\mathbb{Z}\\right\\} \\cup \\left\\{2 n \\pi + \\frac{\\pi}{4}\\; \\middle|\\; n \\in \\mathbb{Z}\\right\\}$"
      ],
      "text/plain": [
       "Union(ImageSet(Lambda(_n, 2*_n*pi + 5*pi/4), Integers), ImageSet(Lambda(_n, 2*_n*pi + pi/4), Integers))"
      ]
     },
     "execution_count": 19,
     "metadata": {},
     "output_type": "execute_result"
    }
   ],
   "source": [
    "eqn = sp.Eq(sp.sin(-x) + sp.cos(x),0)\n",
    "sp.solveset(eqn)"
   ]
  },
  {
   "cell_type": "markdown",
   "id": "cfdec0da",
   "metadata": {},
   "source": [
    "# example 3"
   ]
  },
  {
   "cell_type": "code",
   "execution_count": 41,
   "id": "c3164609",
   "metadata": {},
   "outputs": [
    {
     "data": {
      "text/latex": [
       "$\\displaystyle x = 3 y + z$"
      ],
      "text/plain": [
       "Eq(x, 3*y + z)"
      ]
     },
     "execution_count": 41,
     "metadata": {},
     "output_type": "execute_result"
    }
   ],
   "source": [
    "# Solving the linear equation\n",
    "y = sp.Symbol(\"y\")\n",
    "z = sp.Symbol(\"z\")\n",
    "eq1 = sp.Eq(5*x-3,z)\n",
    "eq1\n",
    "\n",
    "eq2 = sp.Eq(x,3*y+z)\n",
    "eq2\n"
   ]
  },
  {
   "cell_type": "code",
   "execution_count": 43,
   "id": "afb26219",
   "metadata": {},
   "outputs": [
    {
     "data": {
      "text/latex": [
       "$\\displaystyle \\left\\{\\left( \\frac{z}{5} + \\frac{3}{5}, \\  \\frac{1}{5} - \\frac{4 z}{15}, \\  z\\right)\\right\\}$"
      ],
      "text/plain": [
       "{(z/5 + 3/5, 1/5 - 4*z/15, z)}"
      ]
     },
     "execution_count": 43,
     "metadata": {},
     "output_type": "execute_result"
    }
   ],
   "source": [
    "sp.linsolve([eq1,eq2],x,y,z)\n"
   ]
  }
 ],
 "metadata": {
  "kernelspec": {
   "display_name": "Python 3 (ipykernel)",
   "language": "python",
   "name": "python3"
  },
  "language_info": {
   "codemirror_mode": {
    "name": "ipython",
    "version": 3
   },
   "file_extension": ".py",
   "mimetype": "text/x-python",
   "name": "python",
   "nbconvert_exporter": "python",
   "pygments_lexer": "ipython3",
   "version": "3.11.4"
  }
 },
 "nbformat": 4,
 "nbformat_minor": 5
}
